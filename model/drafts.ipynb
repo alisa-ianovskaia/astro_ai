{
 "cells": [
  {
   "cell_type": "code",
   "execution_count": 81,
   "id": "76ca8623-0910-45c2-9729-2f3de2ec79e9",
   "metadata": {},
   "outputs": [],
   "source": [
    "import requests\n",
    "from bs4 import BeautifulSoup\n",
    "from fake_headers import Headers"
   ]
  },
  {
   "cell_type": "code",
   "execution_count": 65,
   "id": "1ad629ae-a1db-4eb8-a2a9-62a9a0ae1a85",
   "metadata": {},
   "outputs": [],
   "source": [
    "SIGNS = ['aries', 'taurus', 'gemini', 'cancer', 'leo', 'virgo', 'libra', 'scorpio', 'sagittarius', 'capricorn', 'aquarius', 'pisces']\n",
    "\n",
    "SOURCES_URLS_MAP = {\n",
    "    '1': 'https://www.horoscope.com/us/horoscopes/general/horoscope-general-daily-today.aspx?sign=',\n",
    "    '2': ['https://cafeastrology.com/', 'dailyhoroscope.html'],\n",
    "    '3': ['https://www.dailyhoroscope.com/horoscopes/daily/', '?full=true'],\n",
    "    '4': 'https://www.washingtonpost.com/horoscopes/',\n",
    "    '5': ['https://www.elle.com/horoscopes/daily/a','-daily-horoscope/']\n",
    "}"
   ]
  },
  {
   "cell_type": "code",
   "execution_count": 72,
   "id": "a0c0309b-d885-4291-8864-a59d77407dc5",
   "metadata": {},
   "outputs": [],
   "source": [
    "def generate_urls(source_id:str) -> list:\n",
    "    '''Returns list of generated urls for each source'''    \n",
    "    urls = list()\n",
    "    if  source_id == '1':\n",
    "        for n in range(1, 13):\n",
    "            urls.append(SOURCES_URLS_MAP[source_id] + str(n))\n",
    "    elif (source_id == '2') | (source_id == '4'):\n",
    "        url_first_part = SOURCES_URLS_MAP[source_id][0]\n",
    "        url_second_part = SOURCES_URLS_MAP[source_id][1]\n",
    "        for sign in SIGNS:\n",
    "            urls.append(url_first_part + sign + url_second_part)\n",
    "    elif source_id == '3':\n",
    "        for sign in SIGNS:\n",
    "            urls.append(SOURCES_URLS_MAP[source_id] + sign)\n",
    "    elif source_id == '5':\n",
    "        url_first_part = SOURCES_URLS_MAP[source_id][0]\n",
    "        url_last_part = SOURCES_URLS_MAP[source_id][1]\n",
    "        url_middle_parts = ['60/'] + [f'{str(n)}/' for n in range(98,109)]\n",
    "        for sign, middle_part in zip(SIGNS, url_middle_parts):\n",
    "            urls.append(url_first_part + middle_part + sign + url_last_part)\n",
    "    else:\n",
    "        raise ValueError('Parameter \"source_id\" should be string in range 1-5.')\n",
    "    return urls"
   ]
  },
  {
   "cell_type": "code",
   "execution_count": 94,
   "id": "a36d7488-0bc5-4eef-86d5-c13375c7e5b1",
   "metadata": {},
   "outputs": [],
   "source": [
    "def get_horoscope_text(page_code:str, source_id:str) -> str:\n",
    "    \"\"\"Returns horoscope text from html page code\"\"\"\n",
    "    try:\n",
    "        soup = BeautifulSoup(page_code, features=\"html.parser\")\n",
    "        if  source_id == '1':\n",
    "            paragraph = soup.select('.main-horoscope p')\n",
    "            text = paragraph[0].text.split('-')[1].strip()\n",
    "\n",
    "        elif source_id == '2':\n",
    "            paragraph = soup.select('.entry-content p')[3]\n",
    "            text = paragraph.text.strip()\n",
    "\n",
    "        elif source_id == '3':\n",
    "            pass\n",
    "        elif source_id == '4':\n",
    "            pass\n",
    "        elif source_id == '5':\n",
    "            pass\n",
    "        return text\n",
    "    except Exception:\n",
    "        return None "
   ]
  },
  {
   "cell_type": "code",
   "execution_count": 85,
   "id": "daae991a-bb6a-4016-81ad-924195bd2f44",
   "metadata": {},
   "outputs": [],
   "source": [
    "def get_html_page(url:str) -> str:\n",
    "    \"\"\"Returns html code of a page for given URL\"\"\"\n",
    "    headers = Headers().generate()\n",
    "    response = requests.get(url, headers=headers)\n",
    "    \n",
    "    if response.status_code == 200:\n",
    "        return response.text\n",
    "    return None"
   ]
  },
  {
   "cell_type": "code",
   "execution_count": 82,
   "id": "4b982256-3f94-4d45-9de6-202c0838be9b",
   "metadata": {},
   "outputs": [],
   "source": [
    "test_urls = generate_urls('2')"
   ]
  },
  {
   "cell_type": "code",
   "execution_count": 88,
   "id": "1a37c0ed-ad59-4bab-9650-78e299141c10",
   "metadata": {},
   "outputs": [
    {
     "data": {
      "text/plain": [
       "'https://cafeastrology.com/ariesdailyhoroscope.html'"
      ]
     },
     "execution_count": 88,
     "metadata": {},
     "output_type": "execute_result"
    }
   ],
   "source": [
    "test_urls[0]"
   ]
  },
  {
   "cell_type": "code",
   "execution_count": 102,
   "id": "b54f3148-c1b3-4585-a2d3-57caa821c392",
   "metadata": {},
   "outputs": [],
   "source": [
    "test_page_code = get_html_page(test_urls[2])"
   ]
  },
  {
   "cell_type": "code",
   "execution_count": 103,
   "id": "5ed4776c-c481-40cf-bcc6-fae1d1a89d0a",
   "metadata": {},
   "outputs": [
    {
     "data": {
      "text/plain": [
       "\"Friendships can thrive, or family relationships can be friendlier with a Venus-Jupiter trine influencing the day, dear Gemini. While the morning continues with some tense energy, the day advances with more warmth and openness. It's a good time to smooth over differences or enhance relationships simply by lending an ear. People you care about seem easier to get along with, and you are notably open to sharing your thoughts with them. It's a good time for negotiations with family or about home and family matters. You might perform a generous act behind the scenes or anonymously, or you could receive unexpected support. Something might surface, such as an unusual coincidence, that brings some joy to your life. Putting your trust in someone can feel refreshing.\""
      ]
     },
     "execution_count": 103,
     "metadata": {},
     "output_type": "execute_result"
    }
   ],
   "source": [
    "get_horoscope(test_page_code, '2')"
   ]
  },
  {
   "cell_type": "code",
   "execution_count": null,
   "id": "cf2a77ed-4f2a-42b6-ac33-21b88ff250ca",
   "metadata": {},
   "outputs": [],
   "source": []
  }
 ],
 "metadata": {
  "kernelspec": {
   "display_name": "Python 3 (ipykernel)",
   "language": "python",
   "name": "python3"
  },
  "language_info": {
   "codemirror_mode": {
    "name": "ipython",
    "version": 3
   },
   "file_extension": ".py",
   "mimetype": "text/x-python",
   "name": "python",
   "nbconvert_exporter": "python",
   "pygments_lexer": "ipython3",
   "version": "3.12.0"
  }
 },
 "nbformat": 4,
 "nbformat_minor": 5
}
