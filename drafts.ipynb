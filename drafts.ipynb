{
 "cells": [
  {
   "cell_type": "code",
   "execution_count": 139,
   "id": "676ea2c9",
   "metadata": {},
   "outputs": [],
   "source": [
    "# temporary\n",
    "\n",
    "temp_dict = {\n",
    "    '1': \"You may experience writer's block in every sense of the phrase. Even if you don't consider yourself a writer, for some reason it may be difficult to get even the simplest words down on paper. Don't get upset. Your verbal juices may not be flowing freely, but they haven't disappeared. Use this time to read other people's works and visit museums for inspiration.\",\n",
    "    '2': \"Action should be your main priority, especially when it comes to love and romance. You may not be too concerned about what sort of action you take. Your only concern is that you aren't sitting still at any time. Once you figure out what you want, you're unlikely to stop until you get it. Your power is forceful and extreme.\",\n",
    "    '3': \"A surprise in love and romance is on its way to you. Things are coming full circle, and the investment you made in this realm is finally paying off. Something new is cropping up, but in reality, this is a result of things you set in motion long ago. Be open to embracing the tremendous flow of love and beauty that's coming your way.\",\n",
    "    '4': \"Be more aware of your personal appearance and how you're perceived. Make sure that your attire is appropriate for the people you're with and the situation. Fashion is a consideration, so don't look like a slob. You may be urged into a fancy store today where you're talked into buying some new items to spruce up your wardrobe.\",\n",
    "    '5': \"Know what you're getting yourself into, especially if it has to do with love and romance. You may be like a fly on a tree branch, carefully inspecting the beautiful spider web at your feet. You're tempted to step on the silky strands, yet once you place one foot on the sticky web, you'll be tangled there for a long time - maybe forever.\",\n",
    "    '6': \"Your heart may be hurt by misfortunes that have befallen you. Thinking about times past is just pulling up buckets of tears from a well. Don't keep doing this to yourself. It's time to move forward. Your heart is eager to start something new and bring adventure into your life. Use your emotions as fuel for the future instead of restraints from the past.\",\n",
    "    '7': \"You're filled with joy! There's a tremendous wave of love coming your way. Everything involving romance could be taken to extremes. An extreme in the direction of love and boundless creativity means that at some time there will be a dramatic swing in the opposite direction. Today you only need to concern yourself with the upswing.\",\n",
    "    '8': \"Instead of dragging on with something old, tired, and worn out, why not start something new? If you refuse to give up on a project that's doomed to fail, you'll be in for a long, frustrating road ahead. You'll find this to be especially true of anything involving music, beauty, creativity, and the arts. Redirect your energy toward something more promising.\",\n",
    "    '9': \"Social engagements will be your saving grace. Without them, you may be confused and sad about issues that are reaching a climax. In some form or another, you're being asked to make some major transformations. These changes are slow and perhaps subtle, but they're important and need addressing. This is where the help of friends can come in handy.\",\n",
    "    '10': \"The intensity should increase around an issue regarding love and romance. Friction is building. Unfortunately, this tension may be unavoidable. It's likely that some sort of power struggle is being thrown into the mix, and you may fight for control of your emotions. Try not to get sucked into a bottomless pit.\",\n",
    "    '11': \"Let your heart shine. Love surrounds you like a beautiful pink cloud, and you can't help but attract people to you. Take romance to a higher level with someone really special tonight. You'll find that whatever you give will come back to you tenfold. Your aura glows brightly with emotion, so let it light your way.\",\n",
    "    '12': \"There's a great deal of transforming energy in the air that you should harness and capitalize on. You may be a fan of the diet that you'll start 'tomorrow'. When tomorrow comes and there's a huge meal of pizza, soda, and fries, suddenly the diet once again starts 'tomorrow.' Use the powerful energy of today to break out of this habit and make a real change in your life.\"\n",
    "}"
   ]
  },
  {
   "cell_type": "code",
   "execution_count": null,
   "id": "8223f267",
   "metadata": {},
   "outputs": [],
   "source": [
    "# TODO: replace double quotes (?)"
   ]
  },
  {
   "cell_type": "code",
   "execution_count": 78,
   "id": "7c955211",
   "metadata": {},
   "outputs": [],
   "source": [
    "# imports\n",
    "\n",
    "import psycopg2\n",
    "import os\n",
    "import re\n",
    "\n",
    "from datetime import date\n",
    "from datetime import timedelta\n",
    "from cred import *"
   ]
  },
  {
   "cell_type": "code",
   "execution_count": 136,
   "id": "44cfeecf",
   "metadata": {},
   "outputs": [
    {
     "data": {
      "text/plain": [
       "'2023-10-08'"
      ]
     },
     "execution_count": 136,
     "metadata": {},
     "output_type": "execute_result"
    }
   ],
   "source": [
    "# get today's date\n",
    "TODAY = str(date.today())\n",
    "TODAY"
   ]
  },
  {
   "cell_type": "code",
   "execution_count": 126,
   "id": "1f3bfbbb",
   "metadata": {},
   "outputs": [],
   "source": [
    "def preprocess_text(text) -> str:\n",
    "    return text.replace(\"'\", \"''\")\n",
    "\n",
    "def generate_insert_query(date, sign_id, source_id, text) -> str:\n",
    "    return f'''INSERT INTO horoscopes(hor_date, sign, source, hor_text) \n",
    "                VALUES ('{date}', {sign_id}, {source_id}, '{text}');'''"
   ]
  },
  {
   "cell_type": "code",
   "execution_count": 31,
   "id": "234dd64e",
   "metadata": {},
   "outputs": [],
   "source": [
    "# constants \n",
    "\n",
    "FILES_PATH = 'daily_texts/1/'"
   ]
  },
  {
   "cell_type": "code",
   "execution_count": 127,
   "id": "5ef87536",
   "metadata": {},
   "outputs": [],
   "source": [
    "# filter files so only txt are left\n",
    "\n",
    "files = os.listdir(FILES_PATH)\n",
    "\n",
    "txt_template = re.compile(r'[\\S]+.txt')\n",
    "txt_files = [f for f in files if txt_template.match(f)]"
   ]
  },
  {
   "cell_type": "code",
   "execution_count": 140,
   "id": "89c86b7e",
   "metadata": {},
   "outputs": [],
   "source": [
    "# write horoscope to text file\n",
    "\n",
    "for file in txt_files:\n",
    "    current_sign_id = file.split('.')[0]\n",
    "    with open(FILES_PATH + file, 'w') as f:\n",
    "        text = preprocess_text(temp_dict[current_sign_id])\n",
    "        f.write(text)"
   ]
  },
  {
   "cell_type": "code",
   "execution_count": 141,
   "id": "ed8b8fd6",
   "metadata": {},
   "outputs": [],
   "source": [
    "#Establishing the connection\n",
    "\n",
    "conn = psycopg2.connect(database=DB,\n",
    "                        user=USER,\n",
    "                        host=HOST,\n",
    "                        port=PORT)\n",
    "\n",
    "#Creating a cursor object using the cursor() method\n",
    "cursor = conn.cursor()"
   ]
  },
  {
   "cell_type": "code",
   "execution_count": 142,
   "id": "9db41940",
   "metadata": {},
   "outputs": [],
   "source": [
    "# read files and write queries\n",
    "\n",
    "for file in txt_files:\n",
    "    full_path = FILES_PATH + file\n",
    "\n",
    "    # check if file is not empty\n",
    "    if os.stat(full_path).st_size != 0:\n",
    "        current_sign_id = int(file.split('.')[0])\n",
    "        \n",
    "        with open(full_path, 'r') as f:\n",
    "            text = f.read()\n",
    "            query = generate_insert_query(TODAY, current_sign_id, 1, text)\n",
    "\n",
    "            cursor.execute(query)\n"
   ]
  },
  {
   "cell_type": "code",
   "execution_count": 143,
   "id": "5392165b",
   "metadata": {},
   "outputs": [
    {
     "name": "stdout",
     "output_type": "stream",
     "text": [
      "Records inserted........\n"
     ]
    }
   ],
   "source": [
    "# Commit your changes in the database\n",
    "conn.commit()\n",
    "print(\"Records inserted........\")\n",
    "\n",
    "# Closing the connection\n",
    "conn.close()"
   ]
  },
  {
   "cell_type": "code",
   "execution_count": null,
   "id": "34a6b555",
   "metadata": {},
   "outputs": [],
   "source": []
  }
 ],
 "metadata": {
  "kernelspec": {
   "display_name": "Python 3 (ipykernel)",
   "language": "python",
   "name": "python3"
  },
  "language_info": {
   "codemirror_mode": {
    "name": "ipython",
    "version": 3
   },
   "file_extension": ".py",
   "mimetype": "text/x-python",
   "name": "python",
   "nbconvert_exporter": "python",
   "pygments_lexer": "ipython3",
   "version": "3.11.4"
  }
 },
 "nbformat": 4,
 "nbformat_minor": 5
}
