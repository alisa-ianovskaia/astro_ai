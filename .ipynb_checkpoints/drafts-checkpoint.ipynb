{
 "cells": [
  {
   "cell_type": "code",
   "execution_count": 71,
   "id": "b7f77dc4",
   "metadata": {},
   "outputs": [],
   "source": [
    "# imports\n",
    "\n",
    "import psycopg2\n",
    "import os\n",
    "import re\n",
    "\n",
    "from datetime import date\n",
    "from datetime import timedelta\n",
    "from typing import NoReturn\n",
    "from cred import *"
   ]
  },
  {
   "cell_type": "code",
   "execution_count": 28,
   "id": "19fe2307",
   "metadata": {},
   "outputs": [
    {
     "data": {
      "text/plain": [
       "'2023-10-12'"
      ]
     },
     "execution_count": 28,
     "metadata": {},
     "output_type": "execute_result"
    }
   ],
   "source": [
    "# get today's date\n",
    "TODAY = str(date.today())\n",
    "TODAY"
   ]
  },
  {
   "cell_type": "code",
   "execution_count": 6,
   "id": "fd57d677",
   "metadata": {},
   "outputs": [],
   "source": [
    "def preprocess_text(text) -> str:\n",
    "    return text.replace(\"'\", \"''\")\n",
    "\n",
    "def generate_insert_query(date, sign_id, source_id, text) -> str:\n",
    "    return f'''INSERT INTO horoscopes(hor_date, sign, source, hor_text) \n",
    "                VALUES ('{date}', {sign_id}, {source_id}, '{text}');'''"
   ]
  },
  {
   "cell_type": "code",
   "execution_count": 7,
   "id": "99592287",
   "metadata": {},
   "outputs": [],
   "source": [
    "# constants \n",
    "\n",
    "FILES_PATH = 'daily_texts/1/'"
   ]
  },
  {
   "cell_type": "code",
   "execution_count": 23,
   "id": "ed1c2fcb",
   "metadata": {},
   "outputs": [],
   "source": [
    "# filter files so only txt are left\n",
    "\n",
    "files = os.listdir(FILES_PATH)\n",
    "\n",
    "txt_template = re.compile(r'[\\S]+.txt')\n",
    "txt_files = [f for f in files if txt_template.match(f)]"
   ]
  },
  {
   "cell_type": "code",
   "execution_count": 33,
   "id": "a19b38d7",
   "metadata": {},
   "outputs": [],
   "source": [
    "# write horoscope to text file\n",
    "\n",
    "for file in txt_files:\n",
    "    current_sign_id = file.split('.')[0]\n",
    "    with open(FILES_PATH + file, 'w') as f:\n",
    "        text = preprocess_text(temp_dict[current_sign_id])\n",
    "        f.write(text)"
   ]
  },
  {
   "cell_type": "code",
   "execution_count": 96,
   "id": "f1547421",
   "metadata": {},
   "outputs": [],
   "source": [
    "#Establishing the connection\n",
    "\n",
    "conn = psycopg2.connect(database=DB,\n",
    "                        user=USER,\n",
    "                        host=HOST,\n",
    "                        port=PORT)\n",
    "\n",
    "#Creating a cursor object using the cursor() method\n",
    "cursor = conn.cursor()"
   ]
  },
  {
   "cell_type": "code",
   "execution_count": 97,
   "id": "13b578f4",
   "metadata": {},
   "outputs": [],
   "source": [
    "# read files and write queries\n",
    "\n",
    "for file in txt_files:\n",
    "    full_path = FILES_PATH + file\n",
    "\n",
    "    # check if file is not empty\n",
    "    if os.stat(full_path).st_size != 0:\n",
    "        current_sign_id = int(file.split('.')[0])\n",
    "        \n",
    "        with open(full_path, 'r') as f:\n",
    "            text = f.read()\n",
    "            query = generate_insert_query(TODAY, current_sign_id, 1, text)\n",
    "\n",
    "            cursor.execute(query)\n"
   ]
  },
  {
   "cell_type": "code",
   "execution_count": 98,
   "id": "c56dc619",
   "metadata": {},
   "outputs": [
    {
     "name": "stdout",
     "output_type": "stream",
     "text": [
      "Records inserted........\n"
     ]
    }
   ],
   "source": [
    "# Commit your changes in the database\n",
    "conn.commit()\n",
    "print(\"Records inserted........\")\n",
    "\n",
    "# Closing the connection\n",
    "conn.close()"
   ]
  },
  {
   "cell_type": "markdown",
   "id": "4408d1da-3b9c-47a9-9191-40f54a93ad57",
   "metadata": {},
   "source": [
    "#### Scraping"
   ]
  },
  {
   "cell_type": "code",
   "execution_count": 78,
   "id": "bae5baf0-cd69-4d5d-97d1-d957574aabfe",
   "metadata": {},
   "outputs": [],
   "source": [
    "URL = 'https://www.horoscope.com/us/horoscopes/general/horoscope-general-daily-today.aspx?sign='"
   ]
  },
  {
   "cell_type": "code",
   "execution_count": 52,
   "id": "8d227efa-dca5-4a18-b0ea-0c22fb0245c4",
   "metadata": {},
   "outputs": [],
   "source": [
    "import time\n",
    "import requests\n",
    "from fake_headers import Headers\n",
    "from bs4 import BeautifulSoup\n",
    "import random"
   ]
  },
  {
   "cell_type": "code",
   "execution_count": 94,
   "id": "6b45a72c-5a15-4be0-8f1f-9515b40755db",
   "metadata": {},
   "outputs": [],
   "source": [
    "def get_html_page(url, headers) -> str:\n",
    "    \"\"\"Returns html code of a page for given URL\"\"\"\n",
    "    response = requests.get(url, headers=headers)\n",
    "    if response.status_code == 200:\n",
    "        return response.text\n",
    "    return None\n",
    "\n",
    "def get_horoscope(page_code) -> str:\n",
    "    \"\"\"Returns horoscope text from html page code\"\"\"\n",
    "    try:\n",
    "        soup = BeautifulSoup(page_code, features=\"html.parser\")\n",
    "        paragraph = soup.select('.main-horoscope p')\n",
    "        text = paragraph[0].text.split('-')[1].strip()\n",
    "        return text\n",
    "    except Exception:\n",
    "        return None \n",
    "\n",
    "def write_to_file(horoscope, file) -> NoReturn:\n",
    "    with open(file, 'w') as f:\n",
    "        f.write(horoscope)\n",
    "\n",
    "def write_all_horoscopes(url) -> NoReturn:\n",
    "    for sign_num in range(1, 13):\n",
    "        full_url = url + str(sign_num)\n",
    "        headers = Headers().generate()\n",
    "\n",
    "        page_code = get_html_page(full_url, headers)\n",
    "        horoscope_text = preprocess_text(get_horoscope(page_code))\n",
    "        \n",
    "\n",
    "        file_name = f'daily_texts/1/{sign_num}.txt'\n",
    "        write_to_file(horoscope_text, file_name)\n",
    "\n",
    "\n",
    "        time.sleep(random.randint(3, 16))\n",
    "\n",
    "        print(f'Horoscope {sign_num} is done')\n",
    "        "
   ]
  },
  {
   "cell_type": "code",
   "execution_count": 95,
   "id": "c5d1a56a-809d-4e0d-9dc7-880d53418722",
   "metadata": {},
   "outputs": [
    {
     "name": "stdout",
     "output_type": "stream",
     "text": [
      "Horoscope 1 is done\n",
      "Horoscope 2 is done\n",
      "Horoscope 3 is done\n",
      "Horoscope 4 is done\n",
      "Horoscope 5 is done\n",
      "Horoscope 6 is done\n",
      "Horoscope 7 is done\n",
      "Horoscope 8 is done\n",
      "Horoscope 9 is done\n",
      "Horoscope 10 is done\n",
      "Horoscope 11 is done\n",
      "Horoscope 12 is done\n"
     ]
    }
   ],
   "source": [
    "write_all_horoscopes(URL)\n"
   ]
  },
  {
   "cell_type": "code",
   "execution_count": null,
   "id": "1ad629ae-a1db-4eb8-a2a9-62a9a0ae1a85",
   "metadata": {},
   "outputs": [],
   "source": []
  }
 ],
 "metadata": {
  "kernelspec": {
   "display_name": "Python 3 (ipykernel)",
   "language": "python",
   "name": "python3"
  },
  "language_info": {
   "codemirror_mode": {
    "name": "ipython",
    "version": 3
   },
   "file_extension": ".py",
   "mimetype": "text/x-python",
   "name": "python",
   "nbconvert_exporter": "python",
   "pygments_lexer": "ipython3",
   "version": "3.12.0"
  }
 },
 "nbformat": 4,
 "nbformat_minor": 5
}
